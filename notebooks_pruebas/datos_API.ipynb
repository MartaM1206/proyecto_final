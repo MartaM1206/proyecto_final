{
 "cells": [
  {
   "cell_type": "code",
   "execution_count": 3,
   "metadata": {},
   "outputs": [
    {
     "data": {
      "text/plain": [
       "False"
      ]
     },
     "execution_count": 3,
     "metadata": {},
     "output_type": "execute_result"
    }
   ],
   "source": [
    "# importamos librerías\n",
    "import pandas as pd\n",
    "import numpy as np\n",
    "import requests\n",
    "import os\n",
    "from dotenv import load_dotenv\n",
    "\n",
    "# Cargamos variables de entorno\n",
    "load_dotenv()"
   ]
  },
  {
   "cell_type": "code",
   "execution_count": 4,
   "metadata": {},
   "outputs": [],
   "source": [
    "# endpoint de la API de datos de la Comunidad de Madrid\n",
    "#url = os.getenv(\"API_URL\")\n",
    "url = \"https://datos.comunidad.madrid/api/3/action/package_show?id=calidad_aire_datos_historico\""
   ]
  },
  {
   "cell_type": "code",
   "execution_count": 5,
   "metadata": {},
   "outputs": [
    {
     "data": {
      "text/plain": [
       "200"
      ]
     },
     "execution_count": 5,
     "metadata": {},
     "output_type": "execute_result"
    }
   ],
   "source": [
    "# Hacemos la petición y comprobamos el estado\n",
    "response = requests.get(url)\n",
    "response.status_code"
   ]
  },
  {
   "cell_type": "code",
   "execution_count": 6,
   "metadata": {},
   "outputs": [
    {
     "data": {
      "text/plain": [
       "dict_keys(['help', 'success', 'result'])"
      ]
     },
     "execution_count": 6,
     "metadata": {},
     "output_type": "execute_result"
    }
   ],
   "source": [
    "# Convertimos a json\n",
    "data = response.json()\n",
    "data.keys()"
   ]
  },
  {
   "cell_type": "code",
   "execution_count": 7,
   "metadata": {},
   "outputs": [
    {
     "data": {
      "text/plain": [
       "dict"
      ]
     },
     "execution_count": 7,
     "metadata": {},
     "output_type": "execute_result"
    }
   ],
   "source": [
    "# Comprobamos que hemos obtenido un diccionario de diccionarios\n",
    "type(data[\"result\"])"
   ]
  },
  {
   "cell_type": "code",
   "execution_count": 8,
   "metadata": {},
   "outputs": [
    {
     "data": {
      "text/plain": [
       "dict_keys(['license_title', 'maintainer', 'relationships_as_object', 'private', 'maintainer_email', 'num_tags', 'id', 'metadata_created', 'owner_org', 'metadata_modified', 'author', 'author_email', 'state', 'version', 'license_id', 'type', 'resources', 'num_resources', 'tags', 'groups', 'creator_user_id', 'relationships_as_subject', 'name', 'isopen', 'url', 'notes', 'title', 'extras', 'license_url', 'organization'])"
      ]
     },
     "execution_count": 8,
     "metadata": {},
     "output_type": "execute_result"
    }
   ],
   "source": [
    "# seleccionamos el elemento del diccionario obtenido que contiene los resultados\n",
    "resultado = data.get(\"result\")\n",
    "resultado.keys()"
   ]
  },
  {
   "cell_type": "code",
   "execution_count": 9,
   "metadata": {},
   "outputs": [
    {
     "data": {
      "text/plain": [
       "list"
      ]
     },
     "execution_count": 9,
     "metadata": {},
     "output_type": "execute_result"
    }
   ],
   "source": [
    "# seleccionamos el elemento del diccionario obtenido que contiene la información de los recursos disponibles\n",
    "periodo = resultado.get(\"resources\")\n",
    "type(periodo)"
   ]
  },
  {
   "cell_type": "code",
   "execution_count": 10,
   "metadata": {},
   "outputs": [
    {
     "data": {
      "text/plain": [
       "dict"
      ]
     },
     "execution_count": 10,
     "metadata": {},
     "output_type": "execute_result"
    }
   ],
   "source": [
    "type(periodo[0])\n"
   ]
  },
  {
   "cell_type": "code",
   "execution_count": 11,
   "metadata": {},
   "outputs": [
    {
     "data": {
      "text/plain": [
       "dict_keys(['cache_last_updated', 'cache_url', 'mimetype_inner', 'hash', 'description', 'metadata_modified', 'format', 'url', 'created', 'state', 'package_id', 'last_modified', 'mimetype', 'url_type', 'position', 'size', 'datastore_active', 'id', 'resource_type', 'name'])"
      ]
     },
     "execution_count": 11,
     "metadata": {},
     "output_type": "execute_result"
    }
   ],
   "source": [
    "periodo[0].keys()"
   ]
  },
  {
   "cell_type": "code",
   "execution_count": 31,
   "metadata": {},
   "outputs": [
    {
     "name": "stdout",
     "output_type": "stream",
     "text": [
      "Archivo guardado exitosamente.\n",
      "Archivo guardado exitosamente.\n"
     ]
    }
   ],
   "source": [
    "# periodo es una lista de diccionarios. Tendremos que recorrerla para obtener los enlaces a los ficheros\n",
    "nombre = [\"2024\",\"Descripción datos de contaminantes\"]\n",
    "for n in nombre:\n",
    "    for elemento in periodo:\n",
    "        if elemento[\"name\"] == n:\n",
    "            datos = elemento.get(\"url\")\n",
    "            formato = elemento.get(\"format\")\n",
    "            response = requests.get(datos)\n",
    "            # Verificar si la descarga fue exitosa\n",
    "            if response.status_code == 200:\n",
    "             # Guardar el archivo en tu computadora\n",
    "                with open(f'../datos/madrid_{n}.{formato}', 'wb') as file:\n",
    "                    file.write(response.content)\n",
    "                print(\"Archivo guardado exitosamente.\")\n",
    "            else:\n",
    "                print(f\"No se pudo descargar el archivo. Código de estado: {response.status_code}\")"
   ]
  },
  {
   "cell_type": "code",
   "execution_count": 37,
   "metadata": {},
   "outputs": [
    {
     "name": "stderr",
     "output_type": "stream",
     "text": [
      "CropBox missing from /Page, defaulting to MediaBox\n"
     ]
    },
    {
     "data": {
      "application/vnd.microsoft.datawrangler.viewer.v0+json": {
       "columns": [
        {
         "name": "index",
         "rawType": "int64",
         "type": "integer"
        },
        {
         "name": "CÓDIGO \nMAGNITUD",
         "rawType": "int64",
         "type": "integer"
        },
        {
         "name": "DESCRIPCIÓN MAGNITUD",
         "rawType": "object",
         "type": "string"
        },
        {
         "name": "CÓDIGO \nTÉCNICA \nDE MEDIDA",
         "rawType": "int64",
         "type": "integer"
        },
        {
         "name": "DESCRIPCIÓN TÉCNICA \nDE MEDIDA",
         "rawType": "object",
         "type": "string"
        },
        {
         "name": "UNIDAD",
         "rawType": "object",
         "type": "string"
        },
        {
         "name": "DESCRIPCIÓN UNIDAD",
         "rawType": "object",
         "type": "string"
        }
       ],
       "conversionMethod": "pd.DataFrame",
       "ref": "b554c4a1-52f6-4d97-98c4-ca929e995795",
       "rows": [
        [
         "0",
         "1",
         "Dióxido de azufre",
         "38",
         "Fluorescencia ultravioleta",
         "µg/m³",
         "microgramos por metro cúbico"
        ],
        [
         "1",
         "6",
         "Monóxido de carbono",
         "48",
         "Espectrometría infrarroja no \ndispersiva",
         "mg/m³",
         "miligramos por metro cúbico"
        ],
        [
         "2",
         "7",
         "Monóxido de nitrógeno",
         "8",
         "Quimioluminiscencia",
         "µg/m³",
         "microgramos por metro cúbico"
        ],
        [
         "3",
         "8",
         "Dióxido de nitrógeno",
         "8",
         "Quimioluminiscencia",
         "µg/m³",
         "microgramos por metro cúbico"
        ],
        [
         "4",
         "9",
         "Partículas en suspensión < PM2,5",
         "49",
         "Absorción beta",
         "µg/m³",
         "microgramos por metro cubico"
        ],
        [
         "5",
         "10",
         "Partículas en suspensión < PM10",
         "49",
         "Absorción beta",
         "µg/m³",
         "microgramos por metro cubico"
        ],
        [
         "6",
         "11",
         "Partículas en suspensión < PM1",
         "49",
         "Absorción beta",
         "µg/m³",
         "microgramos por metro cubico"
        ],
        [
         "7",
         "12",
         "Óxidos de nitrógeno",
         "8",
         "Quimioluminiscencia",
         "µg/m³",
         "microgramos por metro cúbico"
        ],
        [
         "8",
         "14",
         "Ozono",
         "6",
         "Absorción ultravioleta",
         "µg/m³",
         "microgramos por metro cubico"
        ],
        [
         "9",
         "14",
         "Ozono Quimioluminiscencia",
         "8",
         "Quimioluminiscencia",
         "µg/m³",
         "microgramos por metro cubico"
        ],
        [
         "10",
         "20",
         "Tolueno",
         "59",
         "Cromatografía de gases",
         "µg/m³",
         "microgramos por metro cúbico"
        ],
        [
         "11",
         "22",
         "Black Carbon",
         "7",
         "Absorción de luz",
         "µg/m³",
         "microgramos por metro cúbico"
        ],
        [
         "12",
         "30",
         "Benceno",
         "59",
         "Cromatografía de gases",
         "µg/m³",
         "microgramos por metro cúbico"
        ],
        [
         "13",
         "42",
         "Hidrocarburos totales",
         "2",
         "Ionización llama",
         "mg/m³",
         "miligramos por metro cúbico"
        ],
        [
         "14",
         "44",
         "Hidrocarburos no metánicos",
         "2",
         "Ionización llama",
         "mg/m³",
         "miligramos por metro cúbico"
        ],
        [
         "15",
         "431",
         "MetaParaXileno",
         "59",
         "Cromatografía de gases",
         "µg/m³",
         "microgramos por metro cúbico"
        ]
       ],
       "shape": {
        "columns": 6,
        "rows": 16
       }
      },
      "text/html": [
       "<div>\n",
       "<style scoped>\n",
       "    .dataframe tbody tr th:only-of-type {\n",
       "        vertical-align: middle;\n",
       "    }\n",
       "\n",
       "    .dataframe tbody tr th {\n",
       "        vertical-align: top;\n",
       "    }\n",
       "\n",
       "    .dataframe thead th {\n",
       "        text-align: right;\n",
       "    }\n",
       "</style>\n",
       "<table border=\"1\" class=\"dataframe\">\n",
       "  <thead>\n",
       "    <tr style=\"text-align: right;\">\n",
       "      <th></th>\n",
       "      <th>CÓDIGO \\nMAGNITUD</th>\n",
       "      <th>DESCRIPCIÓN MAGNITUD</th>\n",
       "      <th>CÓDIGO \\nTÉCNICA \\nDE MEDIDA</th>\n",
       "      <th>DESCRIPCIÓN TÉCNICA \\nDE MEDIDA</th>\n",
       "      <th>UNIDAD</th>\n",
       "      <th>DESCRIPCIÓN UNIDAD</th>\n",
       "    </tr>\n",
       "  </thead>\n",
       "  <tbody>\n",
       "    <tr>\n",
       "      <th>0</th>\n",
       "      <td>1</td>\n",
       "      <td>Dióxido de azufre</td>\n",
       "      <td>38</td>\n",
       "      <td>Fluorescencia ultravioleta</td>\n",
       "      <td>µg/m³</td>\n",
       "      <td>microgramos por metro cúbico</td>\n",
       "    </tr>\n",
       "    <tr>\n",
       "      <th>1</th>\n",
       "      <td>6</td>\n",
       "      <td>Monóxido de carbono</td>\n",
       "      <td>48</td>\n",
       "      <td>Espectrometría infrarroja no \\ndispersiva</td>\n",
       "      <td>mg/m³</td>\n",
       "      <td>miligramos por metro cúbico</td>\n",
       "    </tr>\n",
       "    <tr>\n",
       "      <th>2</th>\n",
       "      <td>7</td>\n",
       "      <td>Monóxido de nitrógeno</td>\n",
       "      <td>8</td>\n",
       "      <td>Quimioluminiscencia</td>\n",
       "      <td>µg/m³</td>\n",
       "      <td>microgramos por metro cúbico</td>\n",
       "    </tr>\n",
       "    <tr>\n",
       "      <th>3</th>\n",
       "      <td>8</td>\n",
       "      <td>Dióxido de nitrógeno</td>\n",
       "      <td>8</td>\n",
       "      <td>Quimioluminiscencia</td>\n",
       "      <td>µg/m³</td>\n",
       "      <td>microgramos por metro cúbico</td>\n",
       "    </tr>\n",
       "    <tr>\n",
       "      <th>4</th>\n",
       "      <td>9</td>\n",
       "      <td>Partículas en suspensión &lt; PM2,5</td>\n",
       "      <td>49</td>\n",
       "      <td>Absorción beta</td>\n",
       "      <td>µg/m³</td>\n",
       "      <td>microgramos por metro cubico</td>\n",
       "    </tr>\n",
       "    <tr>\n",
       "      <th>5</th>\n",
       "      <td>10</td>\n",
       "      <td>Partículas en suspensión &lt; PM10</td>\n",
       "      <td>49</td>\n",
       "      <td>Absorción beta</td>\n",
       "      <td>µg/m³</td>\n",
       "      <td>microgramos por metro cubico</td>\n",
       "    </tr>\n",
       "    <tr>\n",
       "      <th>6</th>\n",
       "      <td>11</td>\n",
       "      <td>Partículas en suspensión &lt; PM1</td>\n",
       "      <td>49</td>\n",
       "      <td>Absorción beta</td>\n",
       "      <td>µg/m³</td>\n",
       "      <td>microgramos por metro cubico</td>\n",
       "    </tr>\n",
       "    <tr>\n",
       "      <th>7</th>\n",
       "      <td>12</td>\n",
       "      <td>Óxidos de nitrógeno</td>\n",
       "      <td>8</td>\n",
       "      <td>Quimioluminiscencia</td>\n",
       "      <td>µg/m³</td>\n",
       "      <td>microgramos por metro cúbico</td>\n",
       "    </tr>\n",
       "    <tr>\n",
       "      <th>8</th>\n",
       "      <td>14</td>\n",
       "      <td>Ozono</td>\n",
       "      <td>6</td>\n",
       "      <td>Absorción ultravioleta</td>\n",
       "      <td>µg/m³</td>\n",
       "      <td>microgramos por metro cubico</td>\n",
       "    </tr>\n",
       "    <tr>\n",
       "      <th>9</th>\n",
       "      <td>14</td>\n",
       "      <td>Ozono Quimioluminiscencia</td>\n",
       "      <td>8</td>\n",
       "      <td>Quimioluminiscencia</td>\n",
       "      <td>µg/m³</td>\n",
       "      <td>microgramos por metro cubico</td>\n",
       "    </tr>\n",
       "    <tr>\n",
       "      <th>10</th>\n",
       "      <td>20</td>\n",
       "      <td>Tolueno</td>\n",
       "      <td>59</td>\n",
       "      <td>Cromatografía de gases</td>\n",
       "      <td>µg/m³</td>\n",
       "      <td>microgramos por metro cúbico</td>\n",
       "    </tr>\n",
       "    <tr>\n",
       "      <th>11</th>\n",
       "      <td>22</td>\n",
       "      <td>Black Carbon</td>\n",
       "      <td>7</td>\n",
       "      <td>Absorción de luz</td>\n",
       "      <td>µg/m³</td>\n",
       "      <td>microgramos por metro cúbico</td>\n",
       "    </tr>\n",
       "    <tr>\n",
       "      <th>12</th>\n",
       "      <td>30</td>\n",
       "      <td>Benceno</td>\n",
       "      <td>59</td>\n",
       "      <td>Cromatografía de gases</td>\n",
       "      <td>µg/m³</td>\n",
       "      <td>microgramos por metro cúbico</td>\n",
       "    </tr>\n",
       "    <tr>\n",
       "      <th>13</th>\n",
       "      <td>42</td>\n",
       "      <td>Hidrocarburos totales</td>\n",
       "      <td>2</td>\n",
       "      <td>Ionización llama</td>\n",
       "      <td>mg/m³</td>\n",
       "      <td>miligramos por metro cúbico</td>\n",
       "    </tr>\n",
       "    <tr>\n",
       "      <th>14</th>\n",
       "      <td>44</td>\n",
       "      <td>Hidrocarburos no metánicos</td>\n",
       "      <td>2</td>\n",
       "      <td>Ionización llama</td>\n",
       "      <td>mg/m³</td>\n",
       "      <td>miligramos por metro cúbico</td>\n",
       "    </tr>\n",
       "    <tr>\n",
       "      <th>15</th>\n",
       "      <td>431</td>\n",
       "      <td>MetaParaXileno</td>\n",
       "      <td>59</td>\n",
       "      <td>Cromatografía de gases</td>\n",
       "      <td>µg/m³</td>\n",
       "      <td>microgramos por metro cúbico</td>\n",
       "    </tr>\n",
       "  </tbody>\n",
       "</table>\n",
       "</div>"
      ],
      "text/plain": [
       "    CÓDIGO \\nMAGNITUD              DESCRIPCIÓN MAGNITUD  \\\n",
       "0                   1                 Dióxido de azufre   \n",
       "1                   6               Monóxido de carbono   \n",
       "2                   7             Monóxido de nitrógeno   \n",
       "3                   8              Dióxido de nitrógeno   \n",
       "4                   9  Partículas en suspensión < PM2,5   \n",
       "5                  10   Partículas en suspensión < PM10   \n",
       "6                  11    Partículas en suspensión < PM1   \n",
       "7                  12               Óxidos de nitrógeno   \n",
       "8                  14                             Ozono   \n",
       "9                  14         Ozono Quimioluminiscencia   \n",
       "10                 20                           Tolueno   \n",
       "11                 22                      Black Carbon   \n",
       "12                 30                           Benceno   \n",
       "13                 42             Hidrocarburos totales   \n",
       "14                 44        Hidrocarburos no metánicos   \n",
       "15                431                    MetaParaXileno   \n",
       "\n",
       "    CÓDIGO \\nTÉCNICA \\nDE MEDIDA            DESCRIPCIÓN TÉCNICA \\nDE MEDIDA  \\\n",
       "0                             38                 Fluorescencia ultravioleta   \n",
       "1                             48  Espectrometría infrarroja no \\ndispersiva   \n",
       "2                              8                        Quimioluminiscencia   \n",
       "3                              8                        Quimioluminiscencia   \n",
       "4                             49                             Absorción beta   \n",
       "5                             49                             Absorción beta   \n",
       "6                             49                             Absorción beta   \n",
       "7                              8                        Quimioluminiscencia   \n",
       "8                              6                     Absorción ultravioleta   \n",
       "9                              8                        Quimioluminiscencia   \n",
       "10                            59                     Cromatografía de gases   \n",
       "11                             7                           Absorción de luz   \n",
       "12                            59                     Cromatografía de gases   \n",
       "13                             2                           Ionización llama   \n",
       "14                             2                           Ionización llama   \n",
       "15                            59                     Cromatografía de gases   \n",
       "\n",
       "   UNIDAD            DESCRIPCIÓN UNIDAD  \n",
       "0   µg/m³  microgramos por metro cúbico  \n",
       "1   mg/m³   miligramos por metro cúbico  \n",
       "2   µg/m³  microgramos por metro cúbico  \n",
       "3   µg/m³  microgramos por metro cúbico  \n",
       "4   µg/m³  microgramos por metro cubico  \n",
       "5   µg/m³  microgramos por metro cubico  \n",
       "6   µg/m³  microgramos por metro cubico  \n",
       "7   µg/m³  microgramos por metro cúbico  \n",
       "8   µg/m³  microgramos por metro cubico  \n",
       "9   µg/m³  microgramos por metro cubico  \n",
       "10  µg/m³  microgramos por metro cúbico  \n",
       "11  µg/m³  microgramos por metro cúbico  \n",
       "12  µg/m³  microgramos por metro cúbico  \n",
       "13  mg/m³   miligramos por metro cúbico  \n",
       "14  mg/m³   miligramos por metro cúbico  \n",
       "15  µg/m³  microgramos por metro cúbico  "
      ]
     },
     "execution_count": 37,
     "metadata": {},
     "output_type": "execute_result"
    }
   ],
   "source": [
    "import camelot\n",
    "\n",
    "# Ruta del archivo PDF\n",
    "archivo_pdf = \"../datos/madrid_Descripción datos de contaminantes.PDF\"\n",
    "\n",
    "# Extraer tablas\n",
    "tablas = camelot.read_pdf(archivo_pdf, pages=\"3\")\n",
    "\n",
    "# Exportar a CSV o mostrar resultados\n",
    "for i, tabla in enumerate(tablas):\n",
    "    tabla.to_csv(f\"tabla_{i + 1}.csv\") \n",
    "    df_tabla = pd.read_csv(f\"tabla_{i + 1}.csv\") # Guardar como CSV\n",
    "df_tabla # Mostrar la tabla como DataFrame\n"
   ]
  },
  {
   "cell_type": "code",
   "execution_count": null,
   "metadata": {},
   "outputs": [],
   "source": [
    "# Obtenemos los nombres de los eventos que están en curso durante las fechas de estancia\n",
    "from datetime import datetime #importamos librería para transformar fechas\n",
    "eventos_fechas = {\"nombre_evento\":[], \n",
    "                  \"url_evento\": [], \n",
    "                  \"codigo_postal\": [], \n",
    "                  \"direccion\": [], \n",
    "                  \"horario\": [],\n",
    "                  \"fecha_inicio\": [],\n",
    "                  \"fecha_fin\":[], \n",
    "                  \"organizacion\":[]\n",
    "                  } #diccionario para almacenar los datos *faltan fechas inicio y fin*\n",
    "#transformamos las fechas de reservas para tener solo la fecha\n",
    "fecha_entrada = datetime.strptime(\"2025-03-01\", \"%Y-%m-%d\").date()\n",
    "fecha_salida = datetime.strptime(\"2025-03-02\", \"%Y-%m-%d\").date()\n",
    "# iteramos por cada elemento del diccionario\n",
    "for evento in eventos:\n",
    "    # transformamos la fecha para manterner el mismo formato\n",
    "    fecha_inicio = datetime.strptime(evento[\"dtstart\"], \"%Y-%m-%d %H:%M:%S.%f\").date()\n",
    "    fecha_fin = datetime.strptime(evento[\"dtend\"], \"%Y-%m-%d %H:%M:%S.%f\").date()\n",
    "    if (fecha_inicio <= fecha_entrada and fecha_fin >= fecha_salida): #si el evento empieza antes o en la fecha de entrada y termina en la fecha de salida o después\n",
    "        nombre = evento.get(\"title\")\n",
    "        eventos_fechas[\"nombre_evento\"].append(nombre)\n",
    "        link = evento.get(\"link\")\n",
    "        eventos_fechas[\"url_evento\"].append(link)\n",
    "        direccion_comp = evento.get(\"address\")\n",
    "        if direccion_comp !=None:\n",
    "            area = evento.get(\"address\").get(\"area\")\n",
    "            if area != None:\n",
    "                codigo_postal=evento.get(\"address\").get(\"area\").get(\"postal-code\")\n",
    "                direccion = evento.get(\"address\").get(\"area\").get(\"street-address\")\n",
    "            else:\n",
    "                codigo_postal= \"Dirección no disponible\"\n",
    "                direccion = \"Dirección no disponible\"\n",
    "        else: \n",
    "            codigo_postal= \"Dirección no disponible\"\n",
    "            direccion = \"Dirección no disponible\"\n",
    "        eventos_fechas[\"codigo_postal\"].append(codigo_postal)\n",
    "        eventos_fechas[\"direccion\"].append(direccion)\n",
    "        hora = evento.get(\"time\")\n",
    "        eventos_fechas[\"horario\"].append(hora)\n",
    "        eventos_fechas[\"fecha_inicio\"].append(fecha_inicio)\n",
    "        eventos_fechas[\"fecha_fin\"].append(fecha_fin)\n",
    "        organiza = evento.get(\"organization\")\n",
    "        if organiza != None:\n",
    "            organizacion = evento.get(\"organization\").get(\"organization-name\")\n",
    "        else:\n",
    "            organizacion = \"Organización no disponible\"\n",
    "        eventos_fechas[\"organizacion\"].append(organizacion)\n",
    "#Generamos un dataframe con los eventos\n",
    "df_eventos = pd.DataFrame(eventos_fechas)\n",
    "#Guardamos el dataframe en un archivo pickle\n",
    "df_eventos.to_pickle(\"../data/data_clean/eventos.pkl\")"
   ]
  }
 ],
 "metadata": {
  "kernelspec": {
   "display_name": "Python 3",
   "language": "python",
   "name": "python3"
  },
  "language_info": {
   "codemirror_mode": {
    "name": "ipython",
    "version": 3
   },
   "file_extension": ".py",
   "mimetype": "text/x-python",
   "name": "python",
   "nbconvert_exporter": "python",
   "pygments_lexer": "ipython3",
   "version": "3.13.0"
  }
 },
 "nbformat": 4,
 "nbformat_minor": 2
}
