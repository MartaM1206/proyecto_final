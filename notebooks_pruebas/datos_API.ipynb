{
 "cells": [
  {
   "cell_type": "code",
   "execution_count": 32,
   "metadata": {},
   "outputs": [],
   "source": [
    "# importamos librerías\n",
    "import pandas as pd\n",
    "import numpy as np\n",
    "import requests\n",
    "import os\n",
    "#from dotenv import load_dotenv\n",
    "import camelot\n",
    "from datetime import datetime\n",
    "# Cargamos variables de entorno\n",
    "#load_dotenv()"
   ]
  },
  {
   "cell_type": "code",
   "execution_count": 33,
   "metadata": {},
   "outputs": [],
   "source": [
    "# endpoint de la API de datos de la Comunidad de Madrid\n",
    "#url = os.getenv(\"API_URL\")\n",
    "url_histo = \"https://datos.comunidad.madrid/api/3/action/package_show?id=calidad_aire_datos_historico\""
   ]
  },
  {
   "cell_type": "code",
   "execution_count": 34,
   "metadata": {},
   "outputs": [
    {
     "data": {
      "text/plain": [
       "200"
      ]
     },
     "execution_count": 34,
     "metadata": {},
     "output_type": "execute_result"
    }
   ],
   "source": [
    "# Hacemos la petición y comprobamos el estado\n",
    "response_histo = requests.get(url_histo)\n",
    "response_histo.status_code"
   ]
  },
  {
   "cell_type": "code",
   "execution_count": 35,
   "metadata": {},
   "outputs": [
    {
     "data": {
      "text/plain": [
       "dict_keys(['help', 'success', 'result'])"
      ]
     },
     "execution_count": 35,
     "metadata": {},
     "output_type": "execute_result"
    }
   ],
   "source": [
    "# Convertimos a json\n",
    "data_histo = response_histo.json()\n",
    "data_histo.keys()"
   ]
  },
  {
   "cell_type": "code",
   "execution_count": 36,
   "metadata": {},
   "outputs": [
    {
     "data": {
      "text/plain": [
       "dict"
      ]
     },
     "execution_count": 36,
     "metadata": {},
     "output_type": "execute_result"
    }
   ],
   "source": [
    "# Comprobamos que hemos obtenido un diccionario de diccionarios\n",
    "type(data_histo[\"result\"])"
   ]
  },
  {
   "cell_type": "code",
   "execution_count": 37,
   "metadata": {},
   "outputs": [
    {
     "data": {
      "text/plain": [
       "dict_keys(['license_title', 'maintainer', 'relationships_as_object', 'private', 'maintainer_email', 'num_tags', 'id', 'metadata_created', 'owner_org', 'metadata_modified', 'author', 'author_email', 'state', 'version', 'license_id', 'type', 'resources', 'num_resources', 'tags', 'groups', 'creator_user_id', 'relationships_as_subject', 'name', 'isopen', 'url', 'notes', 'title', 'extras', 'license_url', 'organization'])"
      ]
     },
     "execution_count": 37,
     "metadata": {},
     "output_type": "execute_result"
    }
   ],
   "source": [
    "# seleccionamos el elemento del diccionario obtenido que contiene los resultados\n",
    "resultado_histo = data_histo.get(\"result\")\n",
    "resultado_histo.keys()"
   ]
  },
  {
   "cell_type": "code",
   "execution_count": 38,
   "metadata": {},
   "outputs": [
    {
     "data": {
      "text/plain": [
       "list"
      ]
     },
     "execution_count": 38,
     "metadata": {},
     "output_type": "execute_result"
    }
   ],
   "source": [
    "# seleccionamos el elemento del diccionario obtenido que contiene la información de los recursos disponibles\n",
    "todos_annos = resultado_histo.get(\"resources\")\n",
    "type(todos_annos)"
   ]
  },
  {
   "cell_type": "code",
   "execution_count": 39,
   "metadata": {},
   "outputs": [
    {
     "data": {
      "text/plain": [
       "dict"
      ]
     },
     "execution_count": 39,
     "metadata": {},
     "output_type": "execute_result"
    }
   ],
   "source": [
    "type(todos_annos[0])\n"
   ]
  },
  {
   "cell_type": "code",
   "execution_count": 40,
   "metadata": {},
   "outputs": [
    {
     "data": {
      "text/plain": [
       "dict_keys(['cache_last_updated', 'cache_url', 'mimetype_inner', 'hash', 'description', 'metadata_modified', 'format', 'url', 'created', 'state', 'package_id', 'last_modified', 'mimetype', 'url_type', 'position', 'size', 'datastore_active', 'id', 'resource_type', 'name'])"
      ]
     },
     "execution_count": 40,
     "metadata": {},
     "output_type": "execute_result"
    }
   ],
   "source": [
    "todos_annos[0].keys()"
   ]
  },
  {
   "cell_type": "code",
   "execution_count": 42,
   "metadata": {},
   "outputs": [
    {
     "name": "stdout",
     "output_type": "stream",
     "text": [
      "Archivo guardado exitosamente.\n",
      "Archivo guardado exitosamente.\n"
     ]
    }
   ],
   "source": [
    "# periodo es una lista de diccionarios. Tendremos que recorrerla para obtener los enlaces a los ficheros\n",
    "archivos = [\"2024\",\"Descripción datos de contaminantes\"]\n",
    "for archivo in archivos:\n",
    "    for anno in todos_annos:\n",
    "        if anno[\"name\"] == archivo:\n",
    "            datos_anno = anno.get(\"url\")\n",
    "            formato = anno.get(\"format\")\n",
    "            response_anno = requests.get(datos_anno)\n",
    "            # Verificar si la descarga fue exitosa\n",
    "            if response_anno.status_code == 200:\n",
    "             # Guardar el archivo en tu computadora\n",
    "                with open(f'../datos/madrid_{archivo}.{formato}', 'wb') as file:\n",
    "                    file.write(response_anno.content)\n",
    "                print(\"Archivo guardado exitosamente.\")\n",
    "            else:\n",
    "                print(f\"No se pudo descargar el archivo. Código de estado: {response_anno.status_code}\")"
   ]
  },
  {
   "cell_type": "code",
   "execution_count": 43,
   "metadata": {},
   "outputs": [
    {
     "name": "stderr",
     "output_type": "stream",
     "text": [
      "CropBox missing from /Page, defaulting to MediaBox\n"
     ]
    },
    {
     "data": {
      "application/vnd.microsoft.datawrangler.viewer.v0+json": {
       "columns": [
        {
         "name": "CÓDIGO \nMAGNITUD",
         "rawType": "int64",
         "type": "integer"
        },
        {
         "name": "DESCRIPCIÓN MAGNITUD",
         "rawType": "object",
         "type": "string"
        },
        {
         "name": "CÓDIGO \nTÉCNICA \nDE MEDIDA",
         "rawType": "int64",
         "type": "integer"
        },
        {
         "name": "DESCRIPCIÓN TÉCNICA \nDE MEDIDA",
         "rawType": "object",
         "type": "string"
        },
        {
         "name": "UNIDAD",
         "rawType": "object",
         "type": "string"
        },
        {
         "name": "DESCRIPCIÓN UNIDAD",
         "rawType": "object",
         "type": "string"
        }
       ],
       "conversionMethod": "pd.DataFrame",
       "ref": "89e689dd-7adc-4a48-b99d-ea83cccbc1c0",
       "rows": [
        [
         "1",
         "Dióxido de azufre",
         "38",
         "Fluorescencia ultravioleta",
         "µg/m³",
         "microgramos por metro cúbico"
        ],
        [
         "6",
         "Monóxido de carbono",
         "48",
         "Espectrometría infrarroja no \ndispersiva",
         "mg/m³",
         "miligramos por metro cúbico"
        ],
        [
         "7",
         "Monóxido de nitrógeno",
         "8",
         "Quimioluminiscencia",
         "µg/m³",
         "microgramos por metro cúbico"
        ],
        [
         "8",
         "Dióxido de nitrógeno",
         "8",
         "Quimioluminiscencia",
         "µg/m³",
         "microgramos por metro cúbico"
        ],
        [
         "9",
         "Partículas en suspensión < PM2,5",
         "49",
         "Absorción beta",
         "µg/m³",
         "microgramos por metro cubico"
        ],
        [
         "10",
         "Partículas en suspensión < PM10",
         "49",
         "Absorción beta",
         "µg/m³",
         "microgramos por metro cubico"
        ],
        [
         "11",
         "Partículas en suspensión < PM1",
         "49",
         "Absorción beta",
         "µg/m³",
         "microgramos por metro cubico"
        ],
        [
         "12",
         "Óxidos de nitrógeno",
         "8",
         "Quimioluminiscencia",
         "µg/m³",
         "microgramos por metro cúbico"
        ],
        [
         "14",
         "Ozono",
         "6",
         "Absorción ultravioleta",
         "µg/m³",
         "microgramos por metro cubico"
        ],
        [
         "14",
         "Ozono Quimioluminiscencia",
         "8",
         "Quimioluminiscencia",
         "µg/m³",
         "microgramos por metro cubico"
        ],
        [
         "20",
         "Tolueno",
         "59",
         "Cromatografía de gases",
         "µg/m³",
         "microgramos por metro cúbico"
        ],
        [
         "22",
         "Black Carbon",
         "7",
         "Absorción de luz",
         "µg/m³",
         "microgramos por metro cúbico"
        ],
        [
         "30",
         "Benceno",
         "59",
         "Cromatografía de gases",
         "µg/m³",
         "microgramos por metro cúbico"
        ],
        [
         "42",
         "Hidrocarburos totales",
         "2",
         "Ionización llama",
         "mg/m³",
         "miligramos por metro cúbico"
        ],
        [
         "44",
         "Hidrocarburos no metánicos",
         "2",
         "Ionización llama",
         "mg/m³",
         "miligramos por metro cúbico"
        ],
        [
         "431",
         "MetaParaXileno",
         "59",
         "Cromatografía de gases",
         "µg/m³",
         "microgramos por metro cúbico"
        ]
       ],
       "shape": {
        "columns": 5,
        "rows": 16
       }
      },
      "text/html": [
       "<div>\n",
       "<style scoped>\n",
       "    .dataframe tbody tr th:only-of-type {\n",
       "        vertical-align: middle;\n",
       "    }\n",
       "\n",
       "    .dataframe tbody tr th {\n",
       "        vertical-align: top;\n",
       "    }\n",
       "\n",
       "    .dataframe thead th {\n",
       "        text-align: right;\n",
       "    }\n",
       "</style>\n",
       "<table border=\"1\" class=\"dataframe\">\n",
       "  <thead>\n",
       "    <tr style=\"text-align: right;\">\n",
       "      <th></th>\n",
       "      <th>DESCRIPCIÓN MAGNITUD</th>\n",
       "      <th>CÓDIGO \\nTÉCNICA \\nDE MEDIDA</th>\n",
       "      <th>DESCRIPCIÓN TÉCNICA \\nDE MEDIDA</th>\n",
       "      <th>UNIDAD</th>\n",
       "      <th>DESCRIPCIÓN UNIDAD</th>\n",
       "    </tr>\n",
       "    <tr>\n",
       "      <th>CÓDIGO \n",
       "MAGNITUD</th>\n",
       "      <th></th>\n",
       "      <th></th>\n",
       "      <th></th>\n",
       "      <th></th>\n",
       "      <th></th>\n",
       "    </tr>\n",
       "  </thead>\n",
       "  <tbody>\n",
       "    <tr>\n",
       "      <th>1</th>\n",
       "      <td>Dióxido de azufre</td>\n",
       "      <td>38</td>\n",
       "      <td>Fluorescencia ultravioleta</td>\n",
       "      <td>µg/m³</td>\n",
       "      <td>microgramos por metro cúbico</td>\n",
       "    </tr>\n",
       "    <tr>\n",
       "      <th>6</th>\n",
       "      <td>Monóxido de carbono</td>\n",
       "      <td>48</td>\n",
       "      <td>Espectrometría infrarroja no \\ndispersiva</td>\n",
       "      <td>mg/m³</td>\n",
       "      <td>miligramos por metro cúbico</td>\n",
       "    </tr>\n",
       "    <tr>\n",
       "      <th>7</th>\n",
       "      <td>Monóxido de nitrógeno</td>\n",
       "      <td>8</td>\n",
       "      <td>Quimioluminiscencia</td>\n",
       "      <td>µg/m³</td>\n",
       "      <td>microgramos por metro cúbico</td>\n",
       "    </tr>\n",
       "    <tr>\n",
       "      <th>8</th>\n",
       "      <td>Dióxido de nitrógeno</td>\n",
       "      <td>8</td>\n",
       "      <td>Quimioluminiscencia</td>\n",
       "      <td>µg/m³</td>\n",
       "      <td>microgramos por metro cúbico</td>\n",
       "    </tr>\n",
       "    <tr>\n",
       "      <th>9</th>\n",
       "      <td>Partículas en suspensión &lt; PM2,5</td>\n",
       "      <td>49</td>\n",
       "      <td>Absorción beta</td>\n",
       "      <td>µg/m³</td>\n",
       "      <td>microgramos por metro cubico</td>\n",
       "    </tr>\n",
       "    <tr>\n",
       "      <th>10</th>\n",
       "      <td>Partículas en suspensión &lt; PM10</td>\n",
       "      <td>49</td>\n",
       "      <td>Absorción beta</td>\n",
       "      <td>µg/m³</td>\n",
       "      <td>microgramos por metro cubico</td>\n",
       "    </tr>\n",
       "    <tr>\n",
       "      <th>11</th>\n",
       "      <td>Partículas en suspensión &lt; PM1</td>\n",
       "      <td>49</td>\n",
       "      <td>Absorción beta</td>\n",
       "      <td>µg/m³</td>\n",
       "      <td>microgramos por metro cubico</td>\n",
       "    </tr>\n",
       "    <tr>\n",
       "      <th>12</th>\n",
       "      <td>Óxidos de nitrógeno</td>\n",
       "      <td>8</td>\n",
       "      <td>Quimioluminiscencia</td>\n",
       "      <td>µg/m³</td>\n",
       "      <td>microgramos por metro cúbico</td>\n",
       "    </tr>\n",
       "    <tr>\n",
       "      <th>14</th>\n",
       "      <td>Ozono</td>\n",
       "      <td>6</td>\n",
       "      <td>Absorción ultravioleta</td>\n",
       "      <td>µg/m³</td>\n",
       "      <td>microgramos por metro cubico</td>\n",
       "    </tr>\n",
       "    <tr>\n",
       "      <th>14</th>\n",
       "      <td>Ozono Quimioluminiscencia</td>\n",
       "      <td>8</td>\n",
       "      <td>Quimioluminiscencia</td>\n",
       "      <td>µg/m³</td>\n",
       "      <td>microgramos por metro cubico</td>\n",
       "    </tr>\n",
       "    <tr>\n",
       "      <th>20</th>\n",
       "      <td>Tolueno</td>\n",
       "      <td>59</td>\n",
       "      <td>Cromatografía de gases</td>\n",
       "      <td>µg/m³</td>\n",
       "      <td>microgramos por metro cúbico</td>\n",
       "    </tr>\n",
       "    <tr>\n",
       "      <th>22</th>\n",
       "      <td>Black Carbon</td>\n",
       "      <td>7</td>\n",
       "      <td>Absorción de luz</td>\n",
       "      <td>µg/m³</td>\n",
       "      <td>microgramos por metro cúbico</td>\n",
       "    </tr>\n",
       "    <tr>\n",
       "      <th>30</th>\n",
       "      <td>Benceno</td>\n",
       "      <td>59</td>\n",
       "      <td>Cromatografía de gases</td>\n",
       "      <td>µg/m³</td>\n",
       "      <td>microgramos por metro cúbico</td>\n",
       "    </tr>\n",
       "    <tr>\n",
       "      <th>42</th>\n",
       "      <td>Hidrocarburos totales</td>\n",
       "      <td>2</td>\n",
       "      <td>Ionización llama</td>\n",
       "      <td>mg/m³</td>\n",
       "      <td>miligramos por metro cúbico</td>\n",
       "    </tr>\n",
       "    <tr>\n",
       "      <th>44</th>\n",
       "      <td>Hidrocarburos no metánicos</td>\n",
       "      <td>2</td>\n",
       "      <td>Ionización llama</td>\n",
       "      <td>mg/m³</td>\n",
       "      <td>miligramos por metro cúbico</td>\n",
       "    </tr>\n",
       "    <tr>\n",
       "      <th>431</th>\n",
       "      <td>MetaParaXileno</td>\n",
       "      <td>59</td>\n",
       "      <td>Cromatografía de gases</td>\n",
       "      <td>µg/m³</td>\n",
       "      <td>microgramos por metro cúbico</td>\n",
       "    </tr>\n",
       "  </tbody>\n",
       "</table>\n",
       "</div>"
      ],
      "text/plain": [
       "                               DESCRIPCIÓN MAGNITUD  \\\n",
       "CÓDIGO \\nMAGNITUD                                     \n",
       "1                                 Dióxido de azufre   \n",
       "6                               Monóxido de carbono   \n",
       "7                             Monóxido de nitrógeno   \n",
       "8                              Dióxido de nitrógeno   \n",
       "9                  Partículas en suspensión < PM2,5   \n",
       "10                  Partículas en suspensión < PM10   \n",
       "11                   Partículas en suspensión < PM1   \n",
       "12                              Óxidos de nitrógeno   \n",
       "14                                            Ozono   \n",
       "14                        Ozono Quimioluminiscencia   \n",
       "20                                          Tolueno   \n",
       "22                                     Black Carbon   \n",
       "30                                          Benceno   \n",
       "42                            Hidrocarburos totales   \n",
       "44                       Hidrocarburos no metánicos   \n",
       "431                                  MetaParaXileno   \n",
       "\n",
       "                   CÓDIGO \\nTÉCNICA \\nDE MEDIDA  \\\n",
       "CÓDIGO \\nMAGNITUD                                 \n",
       "1                                            38   \n",
       "6                                            48   \n",
       "7                                             8   \n",
       "8                                             8   \n",
       "9                                            49   \n",
       "10                                           49   \n",
       "11                                           49   \n",
       "12                                            8   \n",
       "14                                            6   \n",
       "14                                            8   \n",
       "20                                           59   \n",
       "22                                            7   \n",
       "30                                           59   \n",
       "42                                            2   \n",
       "44                                            2   \n",
       "431                                          59   \n",
       "\n",
       "                             DESCRIPCIÓN TÉCNICA \\nDE MEDIDA UNIDAD  \\\n",
       "CÓDIGO \\nMAGNITUD                                                     \n",
       "1                                 Fluorescencia ultravioleta  µg/m³   \n",
       "6                  Espectrometría infrarroja no \\ndispersiva  mg/m³   \n",
       "7                                        Quimioluminiscencia  µg/m³   \n",
       "8                                        Quimioluminiscencia  µg/m³   \n",
       "9                                             Absorción beta  µg/m³   \n",
       "10                                            Absorción beta  µg/m³   \n",
       "11                                            Absorción beta  µg/m³   \n",
       "12                                       Quimioluminiscencia  µg/m³   \n",
       "14                                    Absorción ultravioleta  µg/m³   \n",
       "14                                       Quimioluminiscencia  µg/m³   \n",
       "20                                    Cromatografía de gases  µg/m³   \n",
       "22                                          Absorción de luz  µg/m³   \n",
       "30                                    Cromatografía de gases  µg/m³   \n",
       "42                                          Ionización llama  mg/m³   \n",
       "44                                          Ionización llama  mg/m³   \n",
       "431                                   Cromatografía de gases  µg/m³   \n",
       "\n",
       "                             DESCRIPCIÓN UNIDAD  \n",
       "CÓDIGO \\nMAGNITUD                                \n",
       "1                  microgramos por metro cúbico  \n",
       "6                   miligramos por metro cúbico  \n",
       "7                  microgramos por metro cúbico  \n",
       "8                  microgramos por metro cúbico  \n",
       "9                  microgramos por metro cubico  \n",
       "10                 microgramos por metro cubico  \n",
       "11                 microgramos por metro cubico  \n",
       "12                 microgramos por metro cúbico  \n",
       "14                 microgramos por metro cubico  \n",
       "14                 microgramos por metro cubico  \n",
       "20                 microgramos por metro cúbico  \n",
       "22                 microgramos por metro cúbico  \n",
       "30                 microgramos por metro cúbico  \n",
       "42                  miligramos por metro cúbico  \n",
       "44                  miligramos por metro cúbico  \n",
       "431                microgramos por metro cúbico  "
      ]
     },
     "execution_count": 43,
     "metadata": {},
     "output_type": "execute_result"
    }
   ],
   "source": [
    "# Ruta del archivo PDF\n",
    "archivo_pdf = \"../datos/madrid_Descripción datos de contaminantes.PDF\"\n",
    "\n",
    "# Extraer tablas\n",
    "tablas = camelot.read_pdf(archivo_pdf, pages=\"3\")\n",
    "\n",
    "# Verificar si se extrajeron tablas\n",
    "if len(tablas) > 0:\n",
    "     tablas[0].to_csv(f\"../datos/datos_contaminantes.csv\")  # Guardar como CSV\n",
    "\n",
    "else:\n",
    "    print(\"No se encontraron tablas en la página indicada.\")\n",
    "\n",
    "datos_contaminantes = pd.read_csv(\"../datos/datos_contaminantes.csv\", index_col=0)\n",
    "datos_contaminantes"
   ]
  },
  {
   "cell_type": "code",
   "execution_count": 44,
   "metadata": {},
   "outputs": [
    {
     "data": {
      "application/vnd.microsoft.datawrangler.viewer.v0+json": {
       "columns": [
        {
         "name": "provincia",
         "rawType": "int64",
         "type": "integer"
        },
        {
         "name": "municipio",
         "rawType": "int64",
         "type": "integer"
        },
        {
         "name": "estacion",
         "rawType": "int64",
         "type": "integer"
        },
        {
         "name": "magnitud",
         "rawType": "int64",
         "type": "integer"
        },
        {
         "name": "punto_muestreo",
         "rawType": "object",
         "type": "string"
        },
        {
         "name": "ano",
         "rawType": "int64",
         "type": "integer"
        },
        {
         "name": "mes",
         "rawType": "int64",
         "type": "integer"
        },
        {
         "name": "dia",
         "rawType": "int64",
         "type": "integer"
        },
        {
         "name": "h01",
         "rawType": "object",
         "type": "string"
        },
        {
         "name": "v01",
         "rawType": "object",
         "type": "string"
        },
        {
         "name": "h02",
         "rawType": "object",
         "type": "string"
        },
        {
         "name": "v02",
         "rawType": "object",
         "type": "string"
        },
        {
         "name": "h03",
         "rawType": "object",
         "type": "string"
        },
        {
         "name": "v03",
         "rawType": "object",
         "type": "string"
        },
        {
         "name": "h04",
         "rawType": "object",
         "type": "string"
        },
        {
         "name": "v04",
         "rawType": "object",
         "type": "string"
        },
        {
         "name": "h05",
         "rawType": "object",
         "type": "string"
        },
        {
         "name": "v05",
         "rawType": "object",
         "type": "string"
        },
        {
         "name": "h06",
         "rawType": "object",
         "type": "string"
        },
        {
         "name": "v06",
         "rawType": "object",
         "type": "string"
        },
        {
         "name": "h07",
         "rawType": "object",
         "type": "string"
        },
        {
         "name": "v07",
         "rawType": "object",
         "type": "string"
        },
        {
         "name": "h08",
         "rawType": "object",
         "type": "string"
        },
        {
         "name": "v08",
         "rawType": "object",
         "type": "string"
        },
        {
         "name": "h09",
         "rawType": "object",
         "type": "string"
        },
        {
         "name": "v09",
         "rawType": "object",
         "type": "string"
        },
        {
         "name": "h10",
         "rawType": "object",
         "type": "string"
        },
        {
         "name": "v10",
         "rawType": "object",
         "type": "string"
        },
        {
         "name": "h11",
         "rawType": "object",
         "type": "string"
        },
        {
         "name": "v11",
         "rawType": "object",
         "type": "string"
        },
        {
         "name": "h12",
         "rawType": "object",
         "type": "string"
        },
        {
         "name": "v12",
         "rawType": "object",
         "type": "string"
        },
        {
         "name": "h13",
         "rawType": "object",
         "type": "string"
        },
        {
         "name": "v13",
         "rawType": "object",
         "type": "string"
        },
        {
         "name": "h14",
         "rawType": "object",
         "type": "string"
        },
        {
         "name": "v14",
         "rawType": "object",
         "type": "string"
        },
        {
         "name": "h15",
         "rawType": "object",
         "type": "string"
        },
        {
         "name": "v15",
         "rawType": "object",
         "type": "string"
        },
        {
         "name": "h16",
         "rawType": "object",
         "type": "string"
        },
        {
         "name": "v16",
         "rawType": "object",
         "type": "string"
        },
        {
         "name": "h17",
         "rawType": "object",
         "type": "string"
        },
        {
         "name": "v17",
         "rawType": "object",
         "type": "string"
        },
        {
         "name": "h18",
         "rawType": "object",
         "type": "string"
        },
        {
         "name": "v18",
         "rawType": "object",
         "type": "string"
        },
        {
         "name": "h19",
         "rawType": "object",
         "type": "string"
        },
        {
         "name": "v19",
         "rawType": "object",
         "type": "string"
        },
        {
         "name": "h20",
         "rawType": "object",
         "type": "string"
        },
        {
         "name": "v20",
         "rawType": "object",
         "type": "string"
        },
        {
         "name": "h21",
         "rawType": "object",
         "type": "string"
        },
        {
         "name": "v21",
         "rawType": "object",
         "type": "string"
        },
        {
         "name": "h22",
         "rawType": "object",
         "type": "string"
        },
        {
         "name": "v22",
         "rawType": "object",
         "type": "string"
        },
        {
         "name": "h23",
         "rawType": "object",
         "type": "string"
        },
        {
         "name": "v23",
         "rawType": "object",
         "type": "string"
        },
        {
         "name": "h24",
         "rawType": "object",
         "type": "string"
        },
        {
         "name": "v24",
         "rawType": "object",
         "type": "string"
        }
       ],
       "conversionMethod": "pd.DataFrame",
       "ref": "bf2f1de1-b18e-4818-84c4-42d3e77f5f04",
       "rows": [
        [
         "28",
         "102",
         "1",
         "1",
         "28102001_1_38",
         "2024",
         "1",
         "1",
         "4",
         "V",
         "4",
         "V",
         "4",
         "V",
         "4",
         "V",
         "4",
         "V",
         "4",
         "V",
         "4",
         "V",
         "4",
         "V",
         "4",
         "V",
         "4",
         "V",
         "4",
         "V",
         "4",
         "V",
         "4",
         "V",
         "4",
         "V",
         "4",
         "V",
         "4",
         "V",
         "4",
         "V",
         "4",
         "V",
         "4",
         "V",
         "4",
         "V",
         "4",
         "V",
         "4",
         "V",
         "4",
         "V",
         "4",
         "V"
        ],
        [
         "28",
         "102",
         "1",
         "6",
         "28102001_6_48",
         "2024",
         "1",
         "1",
         "0,2",
         "V",
         "0,2",
         "V",
         "0,2",
         "V",
         "0,2",
         "V",
         "0,2",
         "V",
         "0,2",
         "V",
         "0,2",
         "V",
         "0,2",
         "V",
         "0,2",
         "V",
         "0,1",
         "V",
         "0,2",
         "V",
         "0,2",
         "V",
         "0,2",
         "V",
         "0,2",
         "V",
         "0,2",
         "V",
         "0,2",
         "V",
         "0,2",
         "V",
         "0,2",
         "V",
         "0,2",
         "V",
         "0,2",
         "V",
         "0,1",
         "V",
         "0,1",
         "V",
         "0,1",
         "V",
         "0,1",
         "V"
        ],
        [
         "28",
         "102",
         "1",
         "7",
         "28102001_7_8",
         "2024",
         "1",
         "1",
         "2",
         "V",
         "2",
         "V",
         "2",
         "V",
         "2",
         "V",
         "2",
         "V",
         "2",
         "V",
         "2",
         "V",
         "2",
         "V",
         "2",
         "V",
         "2",
         "V",
         "2",
         "V",
         "2",
         "V",
         "2",
         "V",
         "2",
         "V",
         "2",
         "V",
         "1",
         "V",
         "1",
         "V",
         "1",
         "V",
         "1",
         "V",
         "1",
         "V",
         "1",
         "V",
         "2",
         "V",
         "1",
         "V",
         "1",
         "V"
        ],
        [
         "28",
         "102",
         "1",
         "8",
         "28102001_8_8",
         "2024",
         "1",
         "1",
         "8",
         "V",
         "8",
         "V",
         "7",
         "V",
         "6",
         "V",
         "6",
         "V",
         "6",
         "V",
         "7",
         "V",
         "7",
         "V",
         "6",
         "V",
         "7",
         "V",
         "7",
         "V",
         "7",
         "V",
         "7",
         "V",
         "7",
         "V",
         "10",
         "V",
         "10",
         "V",
         "13",
         "V",
         "12",
         "V",
         "10",
         "V",
         "9",
         "V",
         "10",
         "V",
         "9",
         "V",
         "8",
         "V",
         "7",
         "V"
        ],
        [
         "28",
         "102",
         "1",
         "10",
         "28102001_10_49",
         "2024",
         "1",
         "1",
         "5",
         "V",
         "6",
         "V",
         "6",
         "V",
         "4",
         "V",
         "3",
         "V",
         "3",
         "V",
         "5",
         "V",
         "6",
         "V",
         "9",
         "V",
         "8",
         "V",
         "8",
         "V",
         "10",
         "V",
         "10",
         "V",
         "10",
         "V",
         "11",
         "V",
         "10",
         "V",
         "10",
         "V",
         "10",
         "V",
         "10",
         "V",
         "8",
         "V",
         "8",
         "V",
         "9",
         "V",
         "8",
         "V",
         "8",
         "V"
        ]
       ],
       "shape": {
        "columns": 55,
        "rows": 5
       }
      },
      "text/html": [
       "<div>\n",
       "<style scoped>\n",
       "    .dataframe tbody tr th:only-of-type {\n",
       "        vertical-align: middle;\n",
       "    }\n",
       "\n",
       "    .dataframe tbody tr th {\n",
       "        vertical-align: top;\n",
       "    }\n",
       "\n",
       "    .dataframe thead th {\n",
       "        text-align: right;\n",
       "    }\n",
       "</style>\n",
       "<table border=\"1\" class=\"dataframe\">\n",
       "  <thead>\n",
       "    <tr style=\"text-align: right;\">\n",
       "      <th></th>\n",
       "      <th>municipio</th>\n",
       "      <th>estacion</th>\n",
       "      <th>magnitud</th>\n",
       "      <th>punto_muestreo</th>\n",
       "      <th>ano</th>\n",
       "      <th>mes</th>\n",
       "      <th>dia</th>\n",
       "      <th>h01</th>\n",
       "      <th>v01</th>\n",
       "      <th>h02</th>\n",
       "      <th>...</th>\n",
       "      <th>h20</th>\n",
       "      <th>v20</th>\n",
       "      <th>h21</th>\n",
       "      <th>v21</th>\n",
       "      <th>h22</th>\n",
       "      <th>v22</th>\n",
       "      <th>h23</th>\n",
       "      <th>v23</th>\n",
       "      <th>h24</th>\n",
       "      <th>v24</th>\n",
       "    </tr>\n",
       "    <tr>\n",
       "      <th>provincia</th>\n",
       "      <th></th>\n",
       "      <th></th>\n",
       "      <th></th>\n",
       "      <th></th>\n",
       "      <th></th>\n",
       "      <th></th>\n",
       "      <th></th>\n",
       "      <th></th>\n",
       "      <th></th>\n",
       "      <th></th>\n",
       "      <th></th>\n",
       "      <th></th>\n",
       "      <th></th>\n",
       "      <th></th>\n",
       "      <th></th>\n",
       "      <th></th>\n",
       "      <th></th>\n",
       "      <th></th>\n",
       "      <th></th>\n",
       "      <th></th>\n",
       "      <th></th>\n",
       "    </tr>\n",
       "  </thead>\n",
       "  <tbody>\n",
       "    <tr>\n",
       "      <th>28</th>\n",
       "      <td>102</td>\n",
       "      <td>1</td>\n",
       "      <td>1</td>\n",
       "      <td>28102001_1_38</td>\n",
       "      <td>2024</td>\n",
       "      <td>1</td>\n",
       "      <td>1</td>\n",
       "      <td>4</td>\n",
       "      <td>V</td>\n",
       "      <td>4</td>\n",
       "      <td>...</td>\n",
       "      <td>4</td>\n",
       "      <td>V</td>\n",
       "      <td>4</td>\n",
       "      <td>V</td>\n",
       "      <td>4</td>\n",
       "      <td>V</td>\n",
       "      <td>4</td>\n",
       "      <td>V</td>\n",
       "      <td>4</td>\n",
       "      <td>V</td>\n",
       "    </tr>\n",
       "    <tr>\n",
       "      <th>28</th>\n",
       "      <td>102</td>\n",
       "      <td>1</td>\n",
       "      <td>6</td>\n",
       "      <td>28102001_6_48</td>\n",
       "      <td>2024</td>\n",
       "      <td>1</td>\n",
       "      <td>1</td>\n",
       "      <td>0,2</td>\n",
       "      <td>V</td>\n",
       "      <td>0,2</td>\n",
       "      <td>...</td>\n",
       "      <td>0,2</td>\n",
       "      <td>V</td>\n",
       "      <td>0,1</td>\n",
       "      <td>V</td>\n",
       "      <td>0,1</td>\n",
       "      <td>V</td>\n",
       "      <td>0,1</td>\n",
       "      <td>V</td>\n",
       "      <td>0,1</td>\n",
       "      <td>V</td>\n",
       "    </tr>\n",
       "    <tr>\n",
       "      <th>28</th>\n",
       "      <td>102</td>\n",
       "      <td>1</td>\n",
       "      <td>7</td>\n",
       "      <td>28102001_7_8</td>\n",
       "      <td>2024</td>\n",
       "      <td>1</td>\n",
       "      <td>1</td>\n",
       "      <td>2</td>\n",
       "      <td>V</td>\n",
       "      <td>2</td>\n",
       "      <td>...</td>\n",
       "      <td>1</td>\n",
       "      <td>V</td>\n",
       "      <td>1</td>\n",
       "      <td>V</td>\n",
       "      <td>2</td>\n",
       "      <td>V</td>\n",
       "      <td>1</td>\n",
       "      <td>V</td>\n",
       "      <td>1</td>\n",
       "      <td>V</td>\n",
       "    </tr>\n",
       "    <tr>\n",
       "      <th>28</th>\n",
       "      <td>102</td>\n",
       "      <td>1</td>\n",
       "      <td>8</td>\n",
       "      <td>28102001_8_8</td>\n",
       "      <td>2024</td>\n",
       "      <td>1</td>\n",
       "      <td>1</td>\n",
       "      <td>8</td>\n",
       "      <td>V</td>\n",
       "      <td>8</td>\n",
       "      <td>...</td>\n",
       "      <td>9</td>\n",
       "      <td>V</td>\n",
       "      <td>10</td>\n",
       "      <td>V</td>\n",
       "      <td>9</td>\n",
       "      <td>V</td>\n",
       "      <td>8</td>\n",
       "      <td>V</td>\n",
       "      <td>7</td>\n",
       "      <td>V</td>\n",
       "    </tr>\n",
       "    <tr>\n",
       "      <th>28</th>\n",
       "      <td>102</td>\n",
       "      <td>1</td>\n",
       "      <td>10</td>\n",
       "      <td>28102001_10_49</td>\n",
       "      <td>2024</td>\n",
       "      <td>1</td>\n",
       "      <td>1</td>\n",
       "      <td>5</td>\n",
       "      <td>V</td>\n",
       "      <td>6</td>\n",
       "      <td>...</td>\n",
       "      <td>8</td>\n",
       "      <td>V</td>\n",
       "      <td>8</td>\n",
       "      <td>V</td>\n",
       "      <td>9</td>\n",
       "      <td>V</td>\n",
       "      <td>8</td>\n",
       "      <td>V</td>\n",
       "      <td>8</td>\n",
       "      <td>V</td>\n",
       "    </tr>\n",
       "  </tbody>\n",
       "</table>\n",
       "<p>5 rows × 55 columns</p>\n",
       "</div>"
      ],
      "text/plain": [
       "           municipio  estacion  magnitud  punto_muestreo   ano  mes  dia  h01  \\\n",
       "provincia                                                                       \n",
       "28               102         1         1   28102001_1_38  2024    1    1    4   \n",
       "28               102         1         6   28102001_6_48  2024    1    1  0,2   \n",
       "28               102         1         7    28102001_7_8  2024    1    1    2   \n",
       "28               102         1         8    28102001_8_8  2024    1    1    8   \n",
       "28               102         1        10  28102001_10_49  2024    1    1    5   \n",
       "\n",
       "          v01  h02  ...  h20 v20  h21 v21  h22 v22  h23 v23  h24 v24  \n",
       "provincia           ...                                               \n",
       "28          V    4  ...    4   V    4   V    4   V    4   V    4   V  \n",
       "28          V  0,2  ...  0,2   V  0,1   V  0,1   V  0,1   V  0,1   V  \n",
       "28          V    2  ...    1   V    1   V    2   V    1   V    1   V  \n",
       "28          V    8  ...    9   V   10   V    9   V    8   V    7   V  \n",
       "28          V    6  ...    8   V    8   V    9   V    8   V    8   V  \n",
       "\n",
       "[5 rows x 55 columns]"
      ]
     },
     "execution_count": 44,
     "metadata": {},
     "output_type": "execute_result"
    }
   ],
   "source": [
    "madrid_2024 = pd.read_csv(\"../datos/madrid_2024.CSV\", sep=\";\", index_col=0)\n",
    "madrid_2024.head()"
   ]
  },
  {
   "cell_type": "code",
   "execution_count": 48,
   "metadata": {},
   "outputs": [
    {
     "data": {
      "text/plain": [
       "200"
      ]
     },
     "execution_count": 48,
     "metadata": {},
     "output_type": "execute_result"
    }
   ],
   "source": [
    "# endpoint de la API de datos de la Comunidad de Madrid\n",
    "#url = os.getenv(\"API_URL\")\n",
    "url_dia = \"https://datos.comunidad.madrid/api/3/action/package_show?id=calidad_aire_datos_dia\"\n",
    "# Hacemos la petición y comprobamos el estado\n",
    "response_dia = requests.get(url_dia)\n",
    "response_dia.status_code"
   ]
  },
  {
   "cell_type": "code",
   "execution_count": 50,
   "metadata": {},
   "outputs": [
    {
     "data": {
      "text/plain": [
       "dict_keys(['help', 'success', 'result'])"
      ]
     },
     "execution_count": 50,
     "metadata": {},
     "output_type": "execute_result"
    }
   ],
   "source": [
    "# Convertimos a json\n",
    "dia = response_dia.json()\n",
    "dia.keys()"
   ]
  },
  {
   "cell_type": "code",
   "execution_count": 51,
   "metadata": {},
   "outputs": [
    {
     "data": {
      "text/plain": [
       "dict_keys(['license_title', 'maintainer', 'relationships_as_object', 'private', 'maintainer_email', 'num_tags', 'id', 'metadata_created', 'owner_org', 'metadata_modified', 'author', 'author_email', 'state', 'version', 'license_id', 'type', 'resources', 'num_resources', 'tags', 'groups', 'creator_user_id', 'relationships_as_subject', 'name', 'isopen', 'url', 'notes', 'title', 'extras', 'license_url', 'organization'])"
      ]
     },
     "execution_count": 51,
     "metadata": {},
     "output_type": "execute_result"
    }
   ],
   "source": [
    "# seleccionamos el elemento del diccionario obtenido que contiene los resultados\n",
    "resultado_dia = dia.get(\"result\")\n",
    "resultado_dia.keys()"
   ]
  },
  {
   "cell_type": "code",
   "execution_count": 52,
   "metadata": {},
   "outputs": [
    {
     "data": {
      "text/plain": [
       "3"
      ]
     },
     "execution_count": 52,
     "metadata": {},
     "output_type": "execute_result"
    }
   ],
   "source": [
    "# seleccionamos el elemento del diccionario obtenido que contiene la información de los recursos disponibles\n",
    "periodo_dia = resultado_dia.get(\"resources\")\n",
    "len(periodo_dia)"
   ]
  },
  {
   "cell_type": "code",
   "execution_count": 53,
   "metadata": {},
   "outputs": [
    {
     "data": {
      "text/plain": [
       "dict_keys(['cache_last_updated', 'cache_url', 'mimetype_inner', 'hash', 'description', 'metadata_modified', 'format', 'url', 'created', 'state', 'package_id', 'last_modified', 'mimetype', 'url_type', 'position', 'size', 'datastore_active', 'id', 'resource_type', 'name'])"
      ]
     },
     "execution_count": 53,
     "metadata": {},
     "output_type": "execute_result"
    }
   ],
   "source": [
    "# es una lista de diccionarios, vamos a ver qué claves tiene el primer elemento\n",
    "periodo_dia[0].keys()"
   ]
  },
  {
   "cell_type": "code",
   "execution_count": 54,
   "metadata": {},
   "outputs": [
    {
     "name": "stdout",
     "output_type": "stream",
     "text": [
      "https://datos.comunidad.madrid/dataset/3dacd589-ecca-485c-81b9-a61606b7199f/resource/ee75d31c-8042-4067-bbd7-739bb3eb8059/download/calidad_aire_datos_dia.csv\n",
      "Archivo guardado exitosamente.\n"
     ]
    }
   ],
   "source": [
    "# podemos recorrer la lista buscando el elemento que tenga el formato csv y obtener la url\n",
    "for elemento in periodo_dia:\n",
    "    if elemento[\"format\"] == \"CSV\":\n",
    "        datos_dia = elemento.get(\"url\")\n",
    "        print(datos_dia)\n",
    "        response = requests.get(datos_dia)\n",
    "        hoy =  datetime.now().date()  \n",
    "        # Verificar si la descarga fue exitosa\n",
    "        if response.status_code == 200:\n",
    "            # Guardar el archivo en tu computadora\n",
    "            with open(f'../datos/madrid_{hoy}.csv', 'wb') as file:\n",
    "                file.write(response.content)\n",
    "                print(\"Archivo guardado exitosamente.\")\n",
    "        else:\n",
    "                print(f\"No se pudo descargar el archivo. Código de estado: {response.status_code}\")"
   ]
  },
  {
   "cell_type": "code",
   "execution_count": 55,
   "metadata": {},
   "outputs": [
    {
     "data": {
      "text/plain": [
       "200"
      ]
     },
     "execution_count": 55,
     "metadata": {},
     "output_type": "execute_result"
    }
   ],
   "source": [
    "# endpoint de la API de datos de la Comunidad de Madrid\n",
    "#url = os.getenv(\"API_URL\")\n",
    "url_mes = \"https://datos.comunidad.madrid/api/3/action/package_show?id=calidad_aire_datos_mes\"\n",
    "# Hacemos la petición y comprobamos el estado\n",
    "response_mes = requests.get(url_mes)\n",
    "response_mes.status_code"
   ]
  },
  {
   "cell_type": "code",
   "execution_count": 56,
   "metadata": {},
   "outputs": [
    {
     "data": {
      "text/plain": [
       "dict_keys(['help', 'success', 'result'])"
      ]
     },
     "execution_count": 56,
     "metadata": {},
     "output_type": "execute_result"
    }
   ],
   "source": [
    "# Convertimos a json\n",
    "mes = response_mes.json()\n",
    "mes.keys()"
   ]
  },
  {
   "cell_type": "code",
   "execution_count": 57,
   "metadata": {},
   "outputs": [
    {
     "data": {
      "text/plain": [
       "dict_keys(['license_title', 'maintainer', 'relationships_as_object', 'private', 'maintainer_email', 'num_tags', 'id', 'metadata_created', 'owner_org', 'metadata_modified', 'author', 'author_email', 'state', 'version', 'license_id', 'type', 'resources', 'num_resources', 'tags', 'groups', 'creator_user_id', 'relationships_as_subject', 'name', 'isopen', 'url', 'notes', 'title', 'extras', 'license_url', 'organization'])"
      ]
     },
     "execution_count": 57,
     "metadata": {},
     "output_type": "execute_result"
    }
   ],
   "source": [
    "# seleccionamos el elemento del diccionario obtenido que contiene los resultados\n",
    "resultado_mes = mes.get(\"result\")\n",
    "resultado_mes.keys()"
   ]
  },
  {
   "cell_type": "code",
   "execution_count": 58,
   "metadata": {},
   "outputs": [
    {
     "data": {
      "text/plain": [
       "3"
      ]
     },
     "execution_count": 58,
     "metadata": {},
     "output_type": "execute_result"
    }
   ],
   "source": [
    "# seleccionamos el elemento del diccionario obtenido que contiene la información de los recursos disponibles\n",
    "periodo_mes = resultado_mes.get(\"resources\")\n",
    "len(periodo_mes)"
   ]
  },
  {
   "cell_type": "code",
   "execution_count": 61,
   "metadata": {},
   "outputs": [
    {
     "name": "stdout",
     "output_type": "stream",
     "text": [
      "https://datos.comunidad.madrid/dataset/f5f78c68-ffa9-443b-905e-bcab7036bb95/resource/7aca4163-667b-48d5-8abf-7cc164a193be/download/calidad_aire_datos_mes.csv\n",
      "Archivo guardado exitosamente.\n"
     ]
    }
   ],
   "source": [
    "# podemos recorrer la lista buscando el elemento que tenga el formato csv y obtener la url\n",
    "for elemento in periodo_mes:\n",
    "    if elemento[\"format\"] == \"CSV\":\n",
    "        datos_mes = elemento.get(\"url\")\n",
    "        print(datos_mes)\n",
    "        response = requests.get(datos_mes)\n",
    "        hoy =  datetime.now().date()  \n",
    "        # Verificar si la descarga fue exitosa\n",
    "        if response.status_code == 200:\n",
    "            # Guardar el archivo en tu computadora\n",
    "            with open(f'../datos/madrid_{hoy.month}_{hoy.year}.csv', 'wb') as file:\n",
    "                file.write(response.content)\n",
    "                print(\"Archivo guardado exitosamente.\")\n",
    "        else:\n",
    "                print(f\"No se pudo descargar el archivo. Código de estado: {response.status_code}\")"
   ]
  },
  {
   "cell_type": "code",
   "execution_count": 24,
   "metadata": {},
   "outputs": [
    {
     "data": {
      "text/plain": [
       "str"
      ]
     },
     "execution_count": 24,
     "metadata": {},
     "output_type": "execute_result"
    }
   ],
   "source": [
    "type(periodo_mes[0].get(\"metadata_modified\"))\n"
   ]
  },
  {
   "cell_type": "code",
   "execution_count": 25,
   "metadata": {},
   "outputs": [
    {
     "ename": "SyntaxError",
     "evalue": "invalid decimal literal (1184849039.py, line 1)",
     "output_type": "error",
     "traceback": [
      "  \u001b[36mCell\u001b[39m\u001b[36m \u001b[39m\u001b[32mIn[25]\u001b[39m\u001b[32m, line 1\u001b[39m\n\u001b[31m    \u001b[39m\u001b[31mhttps://datos.comunidad.madrid/dataset/f5f78c68-ffa9-443b-905e-bcab7036bb95/resource/7aca4163-667b-48d5-8abf-7cc164a193be/download/calidad_aire_datos_mes.csv\u001b[39m\n                                                           ^\n\u001b[31mSyntaxError\u001b[39m\u001b[31m:\u001b[39m invalid decimal literal\n"
     ]
    }
   ],
   "source": [
    "https://datos.comunidad.madrid/dataset/f5f78c68-ffa9-443b-905e-bcab7036bb95/resource/7aca4163-667b-48d5-8abf-7cc164a193be/download/calidad_aire_datos_mes.csv"
   ]
  }
 ],
 "metadata": {
  "kernelspec": {
   "display_name": "venv",
   "language": "python",
   "name": "python3"
  },
  "language_info": {
   "codemirror_mode": {
    "name": "ipython",
    "version": 3
   },
   "file_extension": ".py",
   "mimetype": "text/x-python",
   "name": "python",
   "nbconvert_exporter": "python",
   "pygments_lexer": "ipython3",
   "version": "3.13.0"
  }
 },
 "nbformat": 4,
 "nbformat_minor": 2
}
